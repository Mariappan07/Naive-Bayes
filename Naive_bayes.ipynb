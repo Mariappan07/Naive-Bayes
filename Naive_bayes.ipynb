{
  "nbformat": 4,
  "nbformat_minor": 0,
  "metadata": {
    "colab": {
      "name": "Naive bayes.ipynb",
      "provenance": [],
      "collapsed_sections": [],
      "authorship_tag": "ABX9TyOg3zP5W2MPCluLTswi9sYk",
      "include_colab_link": true
    },
    "kernelspec": {
      "name": "python3",
      "display_name": "Python 3"
    },
    "language_info": {
      "name": "python"
    }
  },
  "cells": [
    {
      "cell_type": "markdown",
      "metadata": {
        "id": "view-in-github",
        "colab_type": "text"
      },
      "source": [
        "<a href=\"https://colab.research.google.com/github/Mariappan07/Naive-Bayes/blob/main/Naive_bayes.ipynb\" target=\"_parent\"><img src=\"https://colab.research.google.com/assets/colab-badge.svg\" alt=\"Open In Colab\"/></a>"
      ]
    },
    {
      "cell_type": "code",
      "execution_count": null,
      "metadata": {
        "colab": {
          "base_uri": "https://localhost:8080/"
        },
        "id": "Mn_yKvwZkymQ",
        "outputId": "b02944d6-c9e4-4fef-96b2-b6fb0313d605"
      },
      "outputs": [
        {
          "output_type": "stream",
          "name": "stdout",
          "text": [
            "Drive already mounted at /content/drive; to attempt to forcibly remount, call drive.mount(\"/content/drive\", force_remount=True).\n"
          ]
        }
      ],
      "source": [
        "from google.colab import drive\n",
        "drive.mount('/content/drive')"
      ]
    },
    {
      "cell_type": "code",
      "source": [
        "import pandas as pd\n",
        "#import pandas as pd\n",
        "import numpy as np\n",
        "import matplotlib.pyplot as plt\n",
        "import seaborn as sns\n",
        "from sklearn.model_selection import train_test_split\n",
        "from sklearn.linear_model import LogisticRegression\n",
        "from sklearn.metrics import accuracy_score\n",
        "from sklearn.metrics import confusion_matrix\n",
        "from sklearn.metrics import classification_report\n",
        "from sklearn.tree import DecisionTreeClassifier\n",
        "from sklearn.ensemble import RandomForestClassifier\n",
        "from sklearn.neighbors import KNeighborsClassifier\n",
        "from sklearn.naive_bayes import GaussianNB\n",
        "from sklearn.metrics import roc_curve\n",
        "from sklearn.metrics import roc_auc_score\n",
        "from sklearn.metrics import auc\n",
        "\n",
        "\n",
        "\n"
      ],
      "metadata": {
        "id": "9CN2HhXz2680"
      },
      "execution_count": null,
      "outputs": []
    },
    {
      "cell_type": "code",
      "source": [
        "data = pd.read_csv(\"/content/drive/MyDrive/0.MKCE/Datasets/Social_Network_Ads.csv\")"
      ],
      "metadata": {
        "id": "7Ppifik-3Bng"
      },
      "execution_count": null,
      "outputs": []
    },
    {
      "cell_type": "code",
      "source": [
        "data"
      ],
      "metadata": {
        "colab": {
          "base_uri": "https://localhost:8080/",
          "height": 423
        },
        "id": "sjXwc2gf3NYw",
        "outputId": "ff8b6f21-4169-4f83-e07f-1f8c57d5eeb8"
      },
      "execution_count": null,
      "outputs": [
        {
          "output_type": "execute_result",
          "data": {
            "text/plain": [
              "      User ID  Gender   Age  EstimatedSalary  Purchased\n",
              "0    15624510    Male  19.0          19000.0          0\n",
              "1    15810944    Male  35.0          20000.0          0\n",
              "2    15668575  Female  26.0          43000.0          0\n",
              "3    15603246  Female  27.0          57000.0          0\n",
              "4    15804002    Male  19.0          76000.0          0\n",
              "..        ...     ...   ...              ...        ...\n",
              "395  15691863  Female  46.0          41000.0          1\n",
              "396  15706071    Male  51.0          23000.0          1\n",
              "397  15654296  Female  50.0          20000.0          1\n",
              "398  15755018    Male  36.0          33000.0          0\n",
              "399  15594041  Female  49.0          36000.0          1\n",
              "\n",
              "[400 rows x 5 columns]"
            ],
            "text/html": [
              "\n",
              "  <div id=\"df-ecd3537f-94cf-4cbf-a08f-f902778eacd4\">\n",
              "    <div class=\"colab-df-container\">\n",
              "      <div>\n",
              "<style scoped>\n",
              "    .dataframe tbody tr th:only-of-type {\n",
              "        vertical-align: middle;\n",
              "    }\n",
              "\n",
              "    .dataframe tbody tr th {\n",
              "        vertical-align: top;\n",
              "    }\n",
              "\n",
              "    .dataframe thead th {\n",
              "        text-align: right;\n",
              "    }\n",
              "</style>\n",
              "<table border=\"1\" class=\"dataframe\">\n",
              "  <thead>\n",
              "    <tr style=\"text-align: right;\">\n",
              "      <th></th>\n",
              "      <th>User ID</th>\n",
              "      <th>Gender</th>\n",
              "      <th>Age</th>\n",
              "      <th>EstimatedSalary</th>\n",
              "      <th>Purchased</th>\n",
              "    </tr>\n",
              "  </thead>\n",
              "  <tbody>\n",
              "    <tr>\n",
              "      <th>0</th>\n",
              "      <td>15624510</td>\n",
              "      <td>Male</td>\n",
              "      <td>19.0</td>\n",
              "      <td>19000.0</td>\n",
              "      <td>0</td>\n",
              "    </tr>\n",
              "    <tr>\n",
              "      <th>1</th>\n",
              "      <td>15810944</td>\n",
              "      <td>Male</td>\n",
              "      <td>35.0</td>\n",
              "      <td>20000.0</td>\n",
              "      <td>0</td>\n",
              "    </tr>\n",
              "    <tr>\n",
              "      <th>2</th>\n",
              "      <td>15668575</td>\n",
              "      <td>Female</td>\n",
              "      <td>26.0</td>\n",
              "      <td>43000.0</td>\n",
              "      <td>0</td>\n",
              "    </tr>\n",
              "    <tr>\n",
              "      <th>3</th>\n",
              "      <td>15603246</td>\n",
              "      <td>Female</td>\n",
              "      <td>27.0</td>\n",
              "      <td>57000.0</td>\n",
              "      <td>0</td>\n",
              "    </tr>\n",
              "    <tr>\n",
              "      <th>4</th>\n",
              "      <td>15804002</td>\n",
              "      <td>Male</td>\n",
              "      <td>19.0</td>\n",
              "      <td>76000.0</td>\n",
              "      <td>0</td>\n",
              "    </tr>\n",
              "    <tr>\n",
              "      <th>...</th>\n",
              "      <td>...</td>\n",
              "      <td>...</td>\n",
              "      <td>...</td>\n",
              "      <td>...</td>\n",
              "      <td>...</td>\n",
              "    </tr>\n",
              "    <tr>\n",
              "      <th>395</th>\n",
              "      <td>15691863</td>\n",
              "      <td>Female</td>\n",
              "      <td>46.0</td>\n",
              "      <td>41000.0</td>\n",
              "      <td>1</td>\n",
              "    </tr>\n",
              "    <tr>\n",
              "      <th>396</th>\n",
              "      <td>15706071</td>\n",
              "      <td>Male</td>\n",
              "      <td>51.0</td>\n",
              "      <td>23000.0</td>\n",
              "      <td>1</td>\n",
              "    </tr>\n",
              "    <tr>\n",
              "      <th>397</th>\n",
              "      <td>15654296</td>\n",
              "      <td>Female</td>\n",
              "      <td>50.0</td>\n",
              "      <td>20000.0</td>\n",
              "      <td>1</td>\n",
              "    </tr>\n",
              "    <tr>\n",
              "      <th>398</th>\n",
              "      <td>15755018</td>\n",
              "      <td>Male</td>\n",
              "      <td>36.0</td>\n",
              "      <td>33000.0</td>\n",
              "      <td>0</td>\n",
              "    </tr>\n",
              "    <tr>\n",
              "      <th>399</th>\n",
              "      <td>15594041</td>\n",
              "      <td>Female</td>\n",
              "      <td>49.0</td>\n",
              "      <td>36000.0</td>\n",
              "      <td>1</td>\n",
              "    </tr>\n",
              "  </tbody>\n",
              "</table>\n",
              "<p>400 rows × 5 columns</p>\n",
              "</div>\n",
              "      <button class=\"colab-df-convert\" onclick=\"convertToInteractive('df-ecd3537f-94cf-4cbf-a08f-f902778eacd4')\"\n",
              "              title=\"Convert this dataframe to an interactive table.\"\n",
              "              style=\"display:none;\">\n",
              "        \n",
              "  <svg xmlns=\"http://www.w3.org/2000/svg\" height=\"24px\"viewBox=\"0 0 24 24\"\n",
              "       width=\"24px\">\n",
              "    <path d=\"M0 0h24v24H0V0z\" fill=\"none\"/>\n",
              "    <path d=\"M18.56 5.44l.94 2.06.94-2.06 2.06-.94-2.06-.94-.94-2.06-.94 2.06-2.06.94zm-11 1L8.5 8.5l.94-2.06 2.06-.94-2.06-.94L8.5 2.5l-.94 2.06-2.06.94zm10 10l.94 2.06.94-2.06 2.06-.94-2.06-.94-.94-2.06-.94 2.06-2.06.94z\"/><path d=\"M17.41 7.96l-1.37-1.37c-.4-.4-.92-.59-1.43-.59-.52 0-1.04.2-1.43.59L10.3 9.45l-7.72 7.72c-.78.78-.78 2.05 0 2.83L4 21.41c.39.39.9.59 1.41.59.51 0 1.02-.2 1.41-.59l7.78-7.78 2.81-2.81c.8-.78.8-2.07 0-2.86zM5.41 20L4 18.59l7.72-7.72 1.47 1.35L5.41 20z\"/>\n",
              "  </svg>\n",
              "      </button>\n",
              "      \n",
              "  <style>\n",
              "    .colab-df-container {\n",
              "      display:flex;\n",
              "      flex-wrap:wrap;\n",
              "      gap: 12px;\n",
              "    }\n",
              "\n",
              "    .colab-df-convert {\n",
              "      background-color: #E8F0FE;\n",
              "      border: none;\n",
              "      border-radius: 50%;\n",
              "      cursor: pointer;\n",
              "      display: none;\n",
              "      fill: #1967D2;\n",
              "      height: 32px;\n",
              "      padding: 0 0 0 0;\n",
              "      width: 32px;\n",
              "    }\n",
              "\n",
              "    .colab-df-convert:hover {\n",
              "      background-color: #E2EBFA;\n",
              "      box-shadow: 0px 1px 2px rgba(60, 64, 67, 0.3), 0px 1px 3px 1px rgba(60, 64, 67, 0.15);\n",
              "      fill: #174EA6;\n",
              "    }\n",
              "\n",
              "    [theme=dark] .colab-df-convert {\n",
              "      background-color: #3B4455;\n",
              "      fill: #D2E3FC;\n",
              "    }\n",
              "\n",
              "    [theme=dark] .colab-df-convert:hover {\n",
              "      background-color: #434B5C;\n",
              "      box-shadow: 0px 1px 3px 1px rgba(0, 0, 0, 0.15);\n",
              "      filter: drop-shadow(0px 1px 2px rgba(0, 0, 0, 0.3));\n",
              "      fill: #FFFFFF;\n",
              "    }\n",
              "  </style>\n",
              "\n",
              "      <script>\n",
              "        const buttonEl =\n",
              "          document.querySelector('#df-ecd3537f-94cf-4cbf-a08f-f902778eacd4 button.colab-df-convert');\n",
              "        buttonEl.style.display =\n",
              "          google.colab.kernel.accessAllowed ? 'block' : 'none';\n",
              "\n",
              "        async function convertToInteractive(key) {\n",
              "          const element = document.querySelector('#df-ecd3537f-94cf-4cbf-a08f-f902778eacd4');\n",
              "          const dataTable =\n",
              "            await google.colab.kernel.invokeFunction('convertToInteractive',\n",
              "                                                     [key], {});\n",
              "          if (!dataTable) return;\n",
              "\n",
              "          const docLinkHtml = 'Like what you see? Visit the ' +\n",
              "            '<a target=\"_blank\" href=https://colab.research.google.com/notebooks/data_table.ipynb>data table notebook</a>'\n",
              "            + ' to learn more about interactive tables.';\n",
              "          element.innerHTML = '';\n",
              "          dataTable['output_type'] = 'display_data';\n",
              "          await google.colab.output.renderOutput(dataTable, element);\n",
              "          const docLink = document.createElement('div');\n",
              "          docLink.innerHTML = docLinkHtml;\n",
              "          element.appendChild(docLink);\n",
              "        }\n",
              "      </script>\n",
              "    </div>\n",
              "  </div>\n",
              "  "
            ]
          },
          "metadata": {},
          "execution_count": 36
        }
      ]
    },
    {
      "cell_type": "code",
      "source": [
        "data2=pd.get_dummies(data)"
      ],
      "metadata": {
        "id": "bAbzbN8y3ONz"
      },
      "execution_count": null,
      "outputs": []
    },
    {
      "cell_type": "code",
      "source": [
        "data2"
      ],
      "metadata": {
        "colab": {
          "base_uri": "https://localhost:8080/",
          "height": 423
        },
        "id": "L_BXw5xA3R87",
        "outputId": "b10f5fc9-c08c-4481-baa3-90f3a0e204a4"
      },
      "execution_count": null,
      "outputs": [
        {
          "output_type": "execute_result",
          "data": {
            "text/plain": [
              "      User ID   Age  EstimatedSalary  Purchased  Gender_Female  Gender_Male\n",
              "0    15624510  19.0          19000.0          0              0            1\n",
              "1    15810944  35.0          20000.0          0              0            1\n",
              "2    15668575  26.0          43000.0          0              1            0\n",
              "3    15603246  27.0          57000.0          0              1            0\n",
              "4    15804002  19.0          76000.0          0              0            1\n",
              "..        ...   ...              ...        ...            ...          ...\n",
              "395  15691863  46.0          41000.0          1              1            0\n",
              "396  15706071  51.0          23000.0          1              0            1\n",
              "397  15654296  50.0          20000.0          1              1            0\n",
              "398  15755018  36.0          33000.0          0              0            1\n",
              "399  15594041  49.0          36000.0          1              1            0\n",
              "\n",
              "[400 rows x 6 columns]"
            ],
            "text/html": [
              "\n",
              "  <div id=\"df-3c08b8ab-d007-4181-8028-40f2e2592227\">\n",
              "    <div class=\"colab-df-container\">\n",
              "      <div>\n",
              "<style scoped>\n",
              "    .dataframe tbody tr th:only-of-type {\n",
              "        vertical-align: middle;\n",
              "    }\n",
              "\n",
              "    .dataframe tbody tr th {\n",
              "        vertical-align: top;\n",
              "    }\n",
              "\n",
              "    .dataframe thead th {\n",
              "        text-align: right;\n",
              "    }\n",
              "</style>\n",
              "<table border=\"1\" class=\"dataframe\">\n",
              "  <thead>\n",
              "    <tr style=\"text-align: right;\">\n",
              "      <th></th>\n",
              "      <th>User ID</th>\n",
              "      <th>Age</th>\n",
              "      <th>EstimatedSalary</th>\n",
              "      <th>Purchased</th>\n",
              "      <th>Gender_Female</th>\n",
              "      <th>Gender_Male</th>\n",
              "    </tr>\n",
              "  </thead>\n",
              "  <tbody>\n",
              "    <tr>\n",
              "      <th>0</th>\n",
              "      <td>15624510</td>\n",
              "      <td>19.0</td>\n",
              "      <td>19000.0</td>\n",
              "      <td>0</td>\n",
              "      <td>0</td>\n",
              "      <td>1</td>\n",
              "    </tr>\n",
              "    <tr>\n",
              "      <th>1</th>\n",
              "      <td>15810944</td>\n",
              "      <td>35.0</td>\n",
              "      <td>20000.0</td>\n",
              "      <td>0</td>\n",
              "      <td>0</td>\n",
              "      <td>1</td>\n",
              "    </tr>\n",
              "    <tr>\n",
              "      <th>2</th>\n",
              "      <td>15668575</td>\n",
              "      <td>26.0</td>\n",
              "      <td>43000.0</td>\n",
              "      <td>0</td>\n",
              "      <td>1</td>\n",
              "      <td>0</td>\n",
              "    </tr>\n",
              "    <tr>\n",
              "      <th>3</th>\n",
              "      <td>15603246</td>\n",
              "      <td>27.0</td>\n",
              "      <td>57000.0</td>\n",
              "      <td>0</td>\n",
              "      <td>1</td>\n",
              "      <td>0</td>\n",
              "    </tr>\n",
              "    <tr>\n",
              "      <th>4</th>\n",
              "      <td>15804002</td>\n",
              "      <td>19.0</td>\n",
              "      <td>76000.0</td>\n",
              "      <td>0</td>\n",
              "      <td>0</td>\n",
              "      <td>1</td>\n",
              "    </tr>\n",
              "    <tr>\n",
              "      <th>...</th>\n",
              "      <td>...</td>\n",
              "      <td>...</td>\n",
              "      <td>...</td>\n",
              "      <td>...</td>\n",
              "      <td>...</td>\n",
              "      <td>...</td>\n",
              "    </tr>\n",
              "    <tr>\n",
              "      <th>395</th>\n",
              "      <td>15691863</td>\n",
              "      <td>46.0</td>\n",
              "      <td>41000.0</td>\n",
              "      <td>1</td>\n",
              "      <td>1</td>\n",
              "      <td>0</td>\n",
              "    </tr>\n",
              "    <tr>\n",
              "      <th>396</th>\n",
              "      <td>15706071</td>\n",
              "      <td>51.0</td>\n",
              "      <td>23000.0</td>\n",
              "      <td>1</td>\n",
              "      <td>0</td>\n",
              "      <td>1</td>\n",
              "    </tr>\n",
              "    <tr>\n",
              "      <th>397</th>\n",
              "      <td>15654296</td>\n",
              "      <td>50.0</td>\n",
              "      <td>20000.0</td>\n",
              "      <td>1</td>\n",
              "      <td>1</td>\n",
              "      <td>0</td>\n",
              "    </tr>\n",
              "    <tr>\n",
              "      <th>398</th>\n",
              "      <td>15755018</td>\n",
              "      <td>36.0</td>\n",
              "      <td>33000.0</td>\n",
              "      <td>0</td>\n",
              "      <td>0</td>\n",
              "      <td>1</td>\n",
              "    </tr>\n",
              "    <tr>\n",
              "      <th>399</th>\n",
              "      <td>15594041</td>\n",
              "      <td>49.0</td>\n",
              "      <td>36000.0</td>\n",
              "      <td>1</td>\n",
              "      <td>1</td>\n",
              "      <td>0</td>\n",
              "    </tr>\n",
              "  </tbody>\n",
              "</table>\n",
              "<p>400 rows × 6 columns</p>\n",
              "</div>\n",
              "      <button class=\"colab-df-convert\" onclick=\"convertToInteractive('df-3c08b8ab-d007-4181-8028-40f2e2592227')\"\n",
              "              title=\"Convert this dataframe to an interactive table.\"\n",
              "              style=\"display:none;\">\n",
              "        \n",
              "  <svg xmlns=\"http://www.w3.org/2000/svg\" height=\"24px\"viewBox=\"0 0 24 24\"\n",
              "       width=\"24px\">\n",
              "    <path d=\"M0 0h24v24H0V0z\" fill=\"none\"/>\n",
              "    <path d=\"M18.56 5.44l.94 2.06.94-2.06 2.06-.94-2.06-.94-.94-2.06-.94 2.06-2.06.94zm-11 1L8.5 8.5l.94-2.06 2.06-.94-2.06-.94L8.5 2.5l-.94 2.06-2.06.94zm10 10l.94 2.06.94-2.06 2.06-.94-2.06-.94-.94-2.06-.94 2.06-2.06.94z\"/><path d=\"M17.41 7.96l-1.37-1.37c-.4-.4-.92-.59-1.43-.59-.52 0-1.04.2-1.43.59L10.3 9.45l-7.72 7.72c-.78.78-.78 2.05 0 2.83L4 21.41c.39.39.9.59 1.41.59.51 0 1.02-.2 1.41-.59l7.78-7.78 2.81-2.81c.8-.78.8-2.07 0-2.86zM5.41 20L4 18.59l7.72-7.72 1.47 1.35L5.41 20z\"/>\n",
              "  </svg>\n",
              "      </button>\n",
              "      \n",
              "  <style>\n",
              "    .colab-df-container {\n",
              "      display:flex;\n",
              "      flex-wrap:wrap;\n",
              "      gap: 12px;\n",
              "    }\n",
              "\n",
              "    .colab-df-convert {\n",
              "      background-color: #E8F0FE;\n",
              "      border: none;\n",
              "      border-radius: 50%;\n",
              "      cursor: pointer;\n",
              "      display: none;\n",
              "      fill: #1967D2;\n",
              "      height: 32px;\n",
              "      padding: 0 0 0 0;\n",
              "      width: 32px;\n",
              "    }\n",
              "\n",
              "    .colab-df-convert:hover {\n",
              "      background-color: #E2EBFA;\n",
              "      box-shadow: 0px 1px 2px rgba(60, 64, 67, 0.3), 0px 1px 3px 1px rgba(60, 64, 67, 0.15);\n",
              "      fill: #174EA6;\n",
              "    }\n",
              "\n",
              "    [theme=dark] .colab-df-convert {\n",
              "      background-color: #3B4455;\n",
              "      fill: #D2E3FC;\n",
              "    }\n",
              "\n",
              "    [theme=dark] .colab-df-convert:hover {\n",
              "      background-color: #434B5C;\n",
              "      box-shadow: 0px 1px 3px 1px rgba(0, 0, 0, 0.15);\n",
              "      filter: drop-shadow(0px 1px 2px rgba(0, 0, 0, 0.3));\n",
              "      fill: #FFFFFF;\n",
              "    }\n",
              "  </style>\n",
              "\n",
              "      <script>\n",
              "        const buttonEl =\n",
              "          document.querySelector('#df-3c08b8ab-d007-4181-8028-40f2e2592227 button.colab-df-convert');\n",
              "        buttonEl.style.display =\n",
              "          google.colab.kernel.accessAllowed ? 'block' : 'none';\n",
              "\n",
              "        async function convertToInteractive(key) {\n",
              "          const element = document.querySelector('#df-3c08b8ab-d007-4181-8028-40f2e2592227');\n",
              "          const dataTable =\n",
              "            await google.colab.kernel.invokeFunction('convertToInteractive',\n",
              "                                                     [key], {});\n",
              "          if (!dataTable) return;\n",
              "\n",
              "          const docLinkHtml = 'Like what you see? Visit the ' +\n",
              "            '<a target=\"_blank\" href=https://colab.research.google.com/notebooks/data_table.ipynb>data table notebook</a>'\n",
              "            + ' to learn more about interactive tables.';\n",
              "          element.innerHTML = '';\n",
              "          dataTable['output_type'] = 'display_data';\n",
              "          await google.colab.output.renderOutput(dataTable, element);\n",
              "          const docLink = document.createElement('div');\n",
              "          docLink.innerHTML = docLinkHtml;\n",
              "          element.appendChild(docLink);\n",
              "        }\n",
              "      </script>\n",
              "    </div>\n",
              "  </div>\n",
              "  "
            ]
          },
          "metadata": {},
          "execution_count": 38
        }
      ]
    },
    {
      "cell_type": "code",
      "source": [
        "data2.columns"
      ],
      "metadata": {
        "colab": {
          "base_uri": "https://localhost:8080/"
        },
        "id": "k-DEMPTZ3TB4",
        "outputId": "51bce173-124a-471d-84fe-b2213b90a57c"
      },
      "execution_count": null,
      "outputs": [
        {
          "output_type": "execute_result",
          "data": {
            "text/plain": [
              "Index(['User ID', 'Age', 'EstimatedSalary', 'Purchased', 'Gender_Female',\n",
              "       'Gender_Male'],\n",
              "      dtype='object')"
            ]
          },
          "metadata": {},
          "execution_count": 39
        }
      ]
    },
    {
      "cell_type": "code",
      "source": [
        "x = data2.drop(['Purchased'],axis=1)\n",
        "y = data2['Purchased']"
      ],
      "metadata": {
        "id": "UR2lKEiD3Vyf"
      },
      "execution_count": null,
      "outputs": []
    },
    {
      "cell_type": "code",
      "source": [
        "x_train,x_test,y_train,y_test = train_test_split(x,y, test_size=0.25, random_state=0)"
      ],
      "metadata": {
        "id": "5V42GAY03sOO"
      },
      "execution_count": null,
      "outputs": []
    },
    {
      "cell_type": "code",
      "source": [
        "print(x_train.shape)\n",
        "print(x_test.shape)\n",
        "print(y_train.shape)\n",
        "print(y_test.shape)"
      ],
      "metadata": {
        "colab": {
          "base_uri": "https://localhost:8080/"
        },
        "id": "YWF4D7IF33eJ",
        "outputId": "50666e55-f0ad-4058-aa02-1e4430e83980"
      },
      "execution_count": null,
      "outputs": [
        {
          "output_type": "stream",
          "name": "stdout",
          "text": [
            "(300, 5)\n",
            "(100, 5)\n",
            "(300,)\n",
            "(100,)\n"
          ]
        }
      ]
    },
    {
      "cell_type": "code",
      "source": [
        "from sklearn.naive_bayes import GaussianNB\n"
      ],
      "metadata": {
        "id": "cXx0RD464EZf"
      },
      "execution_count": null,
      "outputs": []
    },
    {
      "cell_type": "code",
      "source": [
        "model = GaussianNB()"
      ],
      "metadata": {
        "id": "rBpMb8-w4pro"
      },
      "execution_count": null,
      "outputs": []
    },
    {
      "cell_type": "code",
      "source": [
        "model.fit(x_train,y_train)"
      ],
      "metadata": {
        "colab": {
          "base_uri": "https://localhost:8080/"
        },
        "id": "BDUWsJkt40gf",
        "outputId": "79c58fab-e0a6-47bc-f04f-1fbee5b2eb2d"
      },
      "execution_count": null,
      "outputs": [
        {
          "output_type": "execute_result",
          "data": {
            "text/plain": [
              "GaussianNB()"
            ]
          },
          "metadata": {},
          "execution_count": 45
        }
      ]
    },
    {
      "cell_type": "code",
      "source": [
        "pre = model.predict(x_test)\n",
        "model.predict_proba(x_test)"
      ],
      "metadata": {
        "colab": {
          "base_uri": "https://localhost:8080/"
        },
        "id": "-Sq9mvl144Re",
        "outputId": "72baf1a6-9f9b-486b-d473-ad44ed333976"
      },
      "execution_count": null,
      "outputs": [
        {
          "output_type": "execute_result",
          "data": {
            "text/plain": [
              "array([[8.97166879e-01, 1.02833121e-01],\n",
              "       [8.38709734e-01, 1.61290266e-01],\n",
              "       [8.63733342e-01, 1.36266658e-01],\n",
              "       [9.21609172e-01, 7.83908278e-02],\n",
              "       [8.93642888e-01, 1.06357112e-01],\n",
              "       [9.56865068e-01, 4.31349322e-02],\n",
              "       [8.96195794e-01, 1.03804206e-01],\n",
              "       [4.32899979e-02, 9.56710002e-01],\n",
              "       [9.87544329e-01, 1.24556709e-02],\n",
              "       [5.00128134e-01, 4.99871866e-01],\n",
              "       [9.52768882e-01, 4.72311184e-02],\n",
              "       [9.64490757e-01, 3.55092434e-02],\n",
              "       [8.70581560e-01, 1.29418440e-01],\n",
              "       [7.10421103e-01, 2.89578897e-01],\n",
              "       [9.73974014e-01, 2.60259855e-02],\n",
              "       [5.13615291e-01, 4.86384709e-01],\n",
              "       [8.09696317e-01, 1.90303683e-01],\n",
              "       [9.78212053e-01, 2.17879467e-02],\n",
              "       [4.82295743e-03, 9.95177043e-01],\n",
              "       [8.68612388e-01, 1.31387612e-01],\n",
              "       [8.89759490e-01, 1.10240510e-01],\n",
              "       [6.51191797e-03, 9.93488082e-01],\n",
              "       [7.60523631e-01, 2.39476369e-01],\n",
              "       [1.53797857e-01, 8.46202143e-01],\n",
              "       [9.75558181e-01, 2.44418189e-02],\n",
              "       [6.08047178e-03, 9.93919528e-01],\n",
              "       [9.15834501e-01, 8.41654986e-02],\n",
              "       [9.29135940e-01, 7.08640601e-02],\n",
              "       [8.41738052e-01, 1.58261948e-01],\n",
              "       [8.44893642e-01, 1.55106358e-01],\n",
              "       [9.61420255e-01, 3.85797448e-02],\n",
              "       [7.80696802e-01, 2.19303198e-01],\n",
              "       [1.23152223e-01, 8.76847777e-01],\n",
              "       [8.56093208e-01, 1.43906792e-01],\n",
              "       [9.78852023e-01, 2.11479769e-02],\n",
              "       [9.90889877e-01, 9.11012256e-03],\n",
              "       [9.71067142e-01, 2.89328579e-02],\n",
              "       [8.99316355e-01, 1.00683645e-01],\n",
              "       [9.38046339e-01, 6.19536614e-02],\n",
              "       [3.73567821e-01, 6.26432179e-01],\n",
              "       [9.29954179e-01, 7.00458207e-02],\n",
              "       [7.63215692e-01, 2.36784308e-01],\n",
              "       [9.27951486e-01, 7.20485145e-02],\n",
              "       [8.66253377e-01, 1.33746623e-01],\n",
              "       [1.86433547e-01, 8.13566453e-01],\n",
              "       [9.65216131e-01, 3.47838690e-02],\n",
              "       [7.90484762e-01, 2.09515238e-01],\n",
              "       [1.33244635e-01, 8.66755365e-01],\n",
              "       [9.70137084e-01, 2.98629158e-02],\n",
              "       [2.28606698e-01, 7.71393302e-01],\n",
              "       [6.90438888e-03, 9.93095611e-01],\n",
              "       [8.81040569e-01, 1.18959431e-01],\n",
              "       [8.75889662e-01, 1.24110338e-01],\n",
              "       [4.20352143e-01, 5.79647857e-01],\n",
              "       [3.21957286e-02, 9.67804271e-01],\n",
              "       [5.95403911e-01, 4.04596089e-01],\n",
              "       [9.22000903e-01, 7.79990965e-02],\n",
              "       [9.42649245e-01, 5.73507551e-02],\n",
              "       [3.92386768e-01, 6.07613232e-01],\n",
              "       [9.71958946e-01, 2.80410542e-02],\n",
              "       [8.90388925e-01, 1.09611075e-01],\n",
              "       [7.32238490e-02, 9.26776151e-01],\n",
              "       [9.84227124e-01, 1.57728764e-02],\n",
              "       [6.43713192e-01, 3.56286808e-01],\n",
              "       [9.85726853e-01, 1.42731474e-02],\n",
              "       [3.80544075e-02, 9.61945592e-01],\n",
              "       [9.49452629e-01, 5.05473714e-02],\n",
              "       [9.68271332e-01, 3.17286678e-02],\n",
              "       [7.79074421e-01, 2.20925579e-01],\n",
              "       [6.76090702e-01, 3.23909298e-01],\n",
              "       [4.23405656e-02, 9.57659434e-01],\n",
              "       [8.53379891e-01, 1.46620109e-01],\n",
              "       [9.78487551e-01, 2.15124487e-02],\n",
              "       [5.19734747e-01, 4.80265253e-01],\n",
              "       [9.27252370e-01, 7.27476299e-02],\n",
              "       [9.80525838e-01, 1.94741615e-02],\n",
              "       [6.20493568e-01, 3.79506432e-01],\n",
              "       [7.56462897e-01, 2.43537103e-01],\n",
              "       [2.39371188e-01, 7.60628812e-01],\n",
              "       [1.24459180e-01, 8.75540820e-01],\n",
              "       [6.68812587e-04, 9.99331187e-01],\n",
              "       [3.91265302e-02, 9.60873470e-01],\n",
              "       [9.77470106e-01, 2.25298936e-02],\n",
              "       [9.70815155e-01, 2.91848449e-02],\n",
              "       [1.02066741e-01, 8.97933259e-01],\n",
              "       [6.06563406e-01, 3.93436594e-01],\n",
              "       [7.22202181e-01, 2.77797819e-01],\n",
              "       [2.23133439e-03, 9.97768666e-01],\n",
              "       [5.60542638e-01, 4.39457362e-01],\n",
              "       [7.48571924e-01, 2.51428076e-01],\n",
              "       [7.02655681e-01, 2.97344319e-01],\n",
              "       [2.54676471e-02, 9.74532353e-01],\n",
              "       [9.82686959e-01, 1.73130414e-02],\n",
              "       [9.70758842e-01, 2.92411576e-02],\n",
              "       [9.59445481e-01, 4.05545190e-02],\n",
              "       [8.96890671e-01, 1.03109329e-01],\n",
              "       [9.76071345e-01, 2.39286546e-02],\n",
              "       [4.62131557e-01, 5.37868443e-01],\n",
              "       [2.27076154e-01, 7.72923846e-01],\n",
              "       [3.12184577e-01, 6.87815423e-01]])"
            ]
          },
          "metadata": {},
          "execution_count": 46
        }
      ]
    },
    {
      "cell_type": "code",
      "source": [
        "x_test"
      ],
      "metadata": {
        "colab": {
          "base_uri": "https://localhost:8080/",
          "height": 423
        },
        "id": "2l89w4FQ5IqH",
        "outputId": "4f4e5e60-ba94-416e-e4cf-793aa6fff147"
      },
      "execution_count": null,
      "outputs": [
        {
          "output_type": "execute_result",
          "data": {
            "text/plain": [
              "      User ID   Age  EstimatedSalary  Gender_Female  Gender_Male\n",
              "132  15725660  30.0          87000.0              0            1\n",
              "309  15652400  38.0          50000.0              1            0\n",
              "341  15776844  35.0          75000.0              0            1\n",
              "196  15738448  30.0          79000.0              1            0\n",
              "246  15638003  35.0          50000.0              1            0\n",
              "..        ...   ...              ...            ...          ...\n",
              "146  15750839  27.0          96000.0              1            0\n",
              "135  15578006  23.0          63000.0              0            1\n",
              "390  15807837  48.0          33000.0              0            1\n",
              "264  15600379  48.0          90000.0              0            1\n",
              "364  15654456  42.0         104000.0              0            1\n",
              "\n",
              "[100 rows x 5 columns]"
            ],
            "text/html": [
              "\n",
              "  <div id=\"df-ead836f3-38ea-4ca4-95ac-08a8b27e99ed\">\n",
              "    <div class=\"colab-df-container\">\n",
              "      <div>\n",
              "<style scoped>\n",
              "    .dataframe tbody tr th:only-of-type {\n",
              "        vertical-align: middle;\n",
              "    }\n",
              "\n",
              "    .dataframe tbody tr th {\n",
              "        vertical-align: top;\n",
              "    }\n",
              "\n",
              "    .dataframe thead th {\n",
              "        text-align: right;\n",
              "    }\n",
              "</style>\n",
              "<table border=\"1\" class=\"dataframe\">\n",
              "  <thead>\n",
              "    <tr style=\"text-align: right;\">\n",
              "      <th></th>\n",
              "      <th>User ID</th>\n",
              "      <th>Age</th>\n",
              "      <th>EstimatedSalary</th>\n",
              "      <th>Gender_Female</th>\n",
              "      <th>Gender_Male</th>\n",
              "    </tr>\n",
              "  </thead>\n",
              "  <tbody>\n",
              "    <tr>\n",
              "      <th>132</th>\n",
              "      <td>15725660</td>\n",
              "      <td>30.0</td>\n",
              "      <td>87000.0</td>\n",
              "      <td>0</td>\n",
              "      <td>1</td>\n",
              "    </tr>\n",
              "    <tr>\n",
              "      <th>309</th>\n",
              "      <td>15652400</td>\n",
              "      <td>38.0</td>\n",
              "      <td>50000.0</td>\n",
              "      <td>1</td>\n",
              "      <td>0</td>\n",
              "    </tr>\n",
              "    <tr>\n",
              "      <th>341</th>\n",
              "      <td>15776844</td>\n",
              "      <td>35.0</td>\n",
              "      <td>75000.0</td>\n",
              "      <td>0</td>\n",
              "      <td>1</td>\n",
              "    </tr>\n",
              "    <tr>\n",
              "      <th>196</th>\n",
              "      <td>15738448</td>\n",
              "      <td>30.0</td>\n",
              "      <td>79000.0</td>\n",
              "      <td>1</td>\n",
              "      <td>0</td>\n",
              "    </tr>\n",
              "    <tr>\n",
              "      <th>246</th>\n",
              "      <td>15638003</td>\n",
              "      <td>35.0</td>\n",
              "      <td>50000.0</td>\n",
              "      <td>1</td>\n",
              "      <td>0</td>\n",
              "    </tr>\n",
              "    <tr>\n",
              "      <th>...</th>\n",
              "      <td>...</td>\n",
              "      <td>...</td>\n",
              "      <td>...</td>\n",
              "      <td>...</td>\n",
              "      <td>...</td>\n",
              "    </tr>\n",
              "    <tr>\n",
              "      <th>146</th>\n",
              "      <td>15750839</td>\n",
              "      <td>27.0</td>\n",
              "      <td>96000.0</td>\n",
              "      <td>1</td>\n",
              "      <td>0</td>\n",
              "    </tr>\n",
              "    <tr>\n",
              "      <th>135</th>\n",
              "      <td>15578006</td>\n",
              "      <td>23.0</td>\n",
              "      <td>63000.0</td>\n",
              "      <td>0</td>\n",
              "      <td>1</td>\n",
              "    </tr>\n",
              "    <tr>\n",
              "      <th>390</th>\n",
              "      <td>15807837</td>\n",
              "      <td>48.0</td>\n",
              "      <td>33000.0</td>\n",
              "      <td>0</td>\n",
              "      <td>1</td>\n",
              "    </tr>\n",
              "    <tr>\n",
              "      <th>264</th>\n",
              "      <td>15600379</td>\n",
              "      <td>48.0</td>\n",
              "      <td>90000.0</td>\n",
              "      <td>0</td>\n",
              "      <td>1</td>\n",
              "    </tr>\n",
              "    <tr>\n",
              "      <th>364</th>\n",
              "      <td>15654456</td>\n",
              "      <td>42.0</td>\n",
              "      <td>104000.0</td>\n",
              "      <td>0</td>\n",
              "      <td>1</td>\n",
              "    </tr>\n",
              "  </tbody>\n",
              "</table>\n",
              "<p>100 rows × 5 columns</p>\n",
              "</div>\n",
              "      <button class=\"colab-df-convert\" onclick=\"convertToInteractive('df-ead836f3-38ea-4ca4-95ac-08a8b27e99ed')\"\n",
              "              title=\"Convert this dataframe to an interactive table.\"\n",
              "              style=\"display:none;\">\n",
              "        \n",
              "  <svg xmlns=\"http://www.w3.org/2000/svg\" height=\"24px\"viewBox=\"0 0 24 24\"\n",
              "       width=\"24px\">\n",
              "    <path d=\"M0 0h24v24H0V0z\" fill=\"none\"/>\n",
              "    <path d=\"M18.56 5.44l.94 2.06.94-2.06 2.06-.94-2.06-.94-.94-2.06-.94 2.06-2.06.94zm-11 1L8.5 8.5l.94-2.06 2.06-.94-2.06-.94L8.5 2.5l-.94 2.06-2.06.94zm10 10l.94 2.06.94-2.06 2.06-.94-2.06-.94-.94-2.06-.94 2.06-2.06.94z\"/><path d=\"M17.41 7.96l-1.37-1.37c-.4-.4-.92-.59-1.43-.59-.52 0-1.04.2-1.43.59L10.3 9.45l-7.72 7.72c-.78.78-.78 2.05 0 2.83L4 21.41c.39.39.9.59 1.41.59.51 0 1.02-.2 1.41-.59l7.78-7.78 2.81-2.81c.8-.78.8-2.07 0-2.86zM5.41 20L4 18.59l7.72-7.72 1.47 1.35L5.41 20z\"/>\n",
              "  </svg>\n",
              "      </button>\n",
              "      \n",
              "  <style>\n",
              "    .colab-df-container {\n",
              "      display:flex;\n",
              "      flex-wrap:wrap;\n",
              "      gap: 12px;\n",
              "    }\n",
              "\n",
              "    .colab-df-convert {\n",
              "      background-color: #E8F0FE;\n",
              "      border: none;\n",
              "      border-radius: 50%;\n",
              "      cursor: pointer;\n",
              "      display: none;\n",
              "      fill: #1967D2;\n",
              "      height: 32px;\n",
              "      padding: 0 0 0 0;\n",
              "      width: 32px;\n",
              "    }\n",
              "\n",
              "    .colab-df-convert:hover {\n",
              "      background-color: #E2EBFA;\n",
              "      box-shadow: 0px 1px 2px rgba(60, 64, 67, 0.3), 0px 1px 3px 1px rgba(60, 64, 67, 0.15);\n",
              "      fill: #174EA6;\n",
              "    }\n",
              "\n",
              "    [theme=dark] .colab-df-convert {\n",
              "      background-color: #3B4455;\n",
              "      fill: #D2E3FC;\n",
              "    }\n",
              "\n",
              "    [theme=dark] .colab-df-convert:hover {\n",
              "      background-color: #434B5C;\n",
              "      box-shadow: 0px 1px 3px 1px rgba(0, 0, 0, 0.15);\n",
              "      filter: drop-shadow(0px 1px 2px rgba(0, 0, 0, 0.3));\n",
              "      fill: #FFFFFF;\n",
              "    }\n",
              "  </style>\n",
              "\n",
              "      <script>\n",
              "        const buttonEl =\n",
              "          document.querySelector('#df-ead836f3-38ea-4ca4-95ac-08a8b27e99ed button.colab-df-convert');\n",
              "        buttonEl.style.display =\n",
              "          google.colab.kernel.accessAllowed ? 'block' : 'none';\n",
              "\n",
              "        async function convertToInteractive(key) {\n",
              "          const element = document.querySelector('#df-ead836f3-38ea-4ca4-95ac-08a8b27e99ed');\n",
              "          const dataTable =\n",
              "            await google.colab.kernel.invokeFunction('convertToInteractive',\n",
              "                                                     [key], {});\n",
              "          if (!dataTable) return;\n",
              "\n",
              "          const docLinkHtml = 'Like what you see? Visit the ' +\n",
              "            '<a target=\"_blank\" href=https://colab.research.google.com/notebooks/data_table.ipynb>data table notebook</a>'\n",
              "            + ' to learn more about interactive tables.';\n",
              "          element.innerHTML = '';\n",
              "          dataTable['output_type'] = 'display_data';\n",
              "          await google.colab.output.renderOutput(dataTable, element);\n",
              "          const docLink = document.createElement('div');\n",
              "          docLink.innerHTML = docLinkHtml;\n",
              "          element.appendChild(docLink);\n",
              "        }\n",
              "      </script>\n",
              "    </div>\n",
              "  </div>\n",
              "  "
            ]
          },
          "metadata": {},
          "execution_count": 47
        }
      ]
    },
    {
      "cell_type": "code",
      "source": [
        "accuracy_score(y_test,pre)"
      ],
      "metadata": {
        "colab": {
          "base_uri": "https://localhost:8080/"
        },
        "id": "TrsTvpMG5KxD",
        "outputId": "30d769e4-b09c-4435-ac68-3a968bc1f647"
      },
      "execution_count": null,
      "outputs": [
        {
          "output_type": "execute_result",
          "data": {
            "text/plain": [
              "0.91"
            ]
          },
          "metadata": {},
          "execution_count": 48
        }
      ]
    },
    {
      "cell_type": "code",
      "source": [
        "confusion_matrix(y_test,pre)"
      ],
      "metadata": {
        "colab": {
          "base_uri": "https://localhost:8080/"
        },
        "id": "tYDQfGf05Scb",
        "outputId": "0df39371-21ef-4e03-af9c-bda72b6865f2"
      },
      "execution_count": null,
      "outputs": [
        {
          "output_type": "execute_result",
          "data": {
            "text/plain": [
              "array([[66,  2],\n",
              "       [ 7, 25]])"
            ]
          },
          "metadata": {},
          "execution_count": 49
        }
      ]
    },
    {
      "cell_type": "code",
      "source": [
        "z=classification_report(y_test,pre)\n",
        "print(z)"
      ],
      "metadata": {
        "colab": {
          "base_uri": "https://localhost:8080/"
        },
        "id": "svsnQ-QY5WNF",
        "outputId": "dbf00a2b-07ed-4c60-e4fb-bb8489befcc6"
      },
      "execution_count": null,
      "outputs": [
        {
          "output_type": "stream",
          "name": "stdout",
          "text": [
            "              precision    recall  f1-score   support\n",
            "\n",
            "           0       0.90      0.97      0.94        68\n",
            "           1       0.93      0.78      0.85        32\n",
            "\n",
            "    accuracy                           0.91       100\n",
            "   macro avg       0.92      0.88      0.89       100\n",
            "weighted avg       0.91      0.91      0.91       100\n",
            "\n"
          ]
        }
      ]
    },
    {
      "cell_type": "code",
      "source": [
        "y_proba = model.predict_proba(x_test)\n",
        "y_predicted = y_proba[:,1]"
      ],
      "metadata": {
        "id": "ghKpdqqG5lV0"
      },
      "execution_count": null,
      "outputs": []
    },
    {
      "cell_type": "code",
      "source": [
        "print(y_predicted)"
      ],
      "metadata": {
        "colab": {
          "base_uri": "https://localhost:8080/"
        },
        "id": "qyXtk6Is5ozy",
        "outputId": "bb989747-5537-49b8-da45-9b2e10d1f5a1"
      },
      "execution_count": null,
      "outputs": [
        {
          "output_type": "stream",
          "name": "stdout",
          "text": [
            "[0.10283312 0.16129027 0.13626666 0.07839083 0.10635711 0.04313493\n",
            " 0.10380421 0.95671    0.01245567 0.49987187 0.04723112 0.03550924\n",
            " 0.12941844 0.2895789  0.02602599 0.48638471 0.19030368 0.02178795\n",
            " 0.99517704 0.13138761 0.11024051 0.99348808 0.23947637 0.84620214\n",
            " 0.02444182 0.99391953 0.0841655  0.07086406 0.15826195 0.15510636\n",
            " 0.03857974 0.2193032  0.87684778 0.14390679 0.02114798 0.00911012\n",
            " 0.02893286 0.10068365 0.06195366 0.62643218 0.07004582 0.23678431\n",
            " 0.07204851 0.13374662 0.81356645 0.03478387 0.20951524 0.86675537\n",
            " 0.02986292 0.7713933  0.99309561 0.11895943 0.12411034 0.57964786\n",
            " 0.96780427 0.40459609 0.0779991  0.05735076 0.60761323 0.02804105\n",
            " 0.10961107 0.92677615 0.01577288 0.35628681 0.01427315 0.96194559\n",
            " 0.05054737 0.03172867 0.22092558 0.3239093  0.95765943 0.14662011\n",
            " 0.02151245 0.48026525 0.07274763 0.01947416 0.37950643 0.2435371\n",
            " 0.76062881 0.87554082 0.99933119 0.96087347 0.02252989 0.02918484\n",
            " 0.89793326 0.39343659 0.27779782 0.99776867 0.43945736 0.25142808\n",
            " 0.29734432 0.97453235 0.01731304 0.02924116 0.04055452 0.10310933\n",
            " 0.02392865 0.53786844 0.77292385 0.68781542]\n"
          ]
        }
      ]
    },
    {
      "cell_type": "code",
      "source": [
        "from sklearn.metrics import roc_curve\n",
        "from sklearn.metrics import roc_auc_score\n",
        "from sklearn.metrics import auc\n",
        "\n"
      ],
      "metadata": {
        "id": "LnLFvlGD5sEh"
      },
      "execution_count": null,
      "outputs": []
    },
    {
      "cell_type": "code",
      "source": [
        "fpr, tpr, thresholds = roc_curve(y_test, y_predicted)"
      ],
      "metadata": {
        "id": "kpslzCM45u2y"
      },
      "execution_count": null,
      "outputs": []
    },
    {
      "cell_type": "code",
      "source": [
        "roc_auc = auc(fpr, tpr)"
      ],
      "metadata": {
        "id": "giDyO_0t52EI"
      },
      "execution_count": null,
      "outputs": []
    },
    {
      "cell_type": "code",
      "source": [
        "plt.figure()\n",
        "plt.plot(fpr,tpr, color='green', label='ROC'%roc_auc)\n",
        "plt.plot([0,1],[0,1], color='orange',linestyle='--')\n",
        "plt.xlim([0.0, 1.0])\n",
        "plt.ylim([0.0, 1.0])\n",
        "plt.xlabel('False Positive Rate(1-specificity)')\n",
        "plt.ylabel('True Positive Rate(Sensitivity)')"
      ],
      "metadata": {
        "colab": {
          "base_uri": "https://localhost:8080/",
          "height": 301
        },
        "id": "S0z6FkIS523Y",
        "outputId": "812802f3-1e96-4462-edc2-f83a9ee413b6"
      },
      "execution_count": null,
      "outputs": [
        {
          "output_type": "execute_result",
          "data": {
            "text/plain": [
              "Text(0, 0.5, 'True Positive Rate(Sensitivity)')"
            ]
          },
          "metadata": {},
          "execution_count": 56
        },
        {
          "output_type": "display_data",
          "data": {
            "text/plain": [
              "<Figure size 432x288 with 1 Axes>"
            ],
            "image/png": "[encoded data removed]"
          },
          "metadata": {
            "needs_background": "light"
          }
        }
      ]
    }
  ]
}